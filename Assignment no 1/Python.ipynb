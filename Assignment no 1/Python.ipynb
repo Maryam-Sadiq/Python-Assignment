{
 "cells": [
  {
   "cell_type": "code",
   "execution_count": 1,
   "id": "82197a4a-a7d1-4bfb-8aaa-38c228d667e8",
   "metadata": {},
   "outputs": [
    {
     "name": "stdout",
     "output_type": "stream",
     "text": [
      "Marium Attaria\n"
     ]
    }
   ],
   "source": [
    "print(\"Marium Attaria\")"
   ]
  },
  {
   "cell_type": "code",
   "execution_count": null,
   "id": "997c1a27-ab27-4bb9-a12d-eb0923749e00",
   "metadata": {},
   "outputs": [],
   "source": []
  }
 ],
 "metadata": {
  "kernelspec": {
   "display_name": "Python 3 (ipykernel)",
   "language": "python",
   "name": "python3"
  },
  "language_info": {
   "codemirror_mode": {
    "name": "ipython",
    "version": 3
   },
   "file_extension": ".py",
   "mimetype": "text/x-python",
   "name": "python",
   "nbconvert_exporter": "python",
   "pygments_lexer": "ipython3",
   "version": "3.13.5"
  }
 },
 "nbformat": 4,
 "nbformat_minor": 5
}
